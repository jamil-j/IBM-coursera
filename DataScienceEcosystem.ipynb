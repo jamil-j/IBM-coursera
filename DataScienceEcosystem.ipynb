{
 "cells": [
  {
   "cell_type": "markdown",
   "id": "49b43a5b-766c-4f4a-804e-f3617fd595aa",
   "metadata": {},
   "source": [
    "# Data Science Tools and Ecosystem"
   ]
  },
  {
   "cell_type": "markdown",
   "id": "f1d50a67-b4ac-4549-b056-bffd05071e11",
   "metadata": {},
   "source": [
    "#### In this notebook, Data Science Tools and Ecosystem are summarized."
   ]
  },
  {
   "cell_type": "markdown",
   "id": "f058ee50-9a95-4c0f-bd8b-280d0fb35cbc",
   "metadata": {},
   "source": [
    "#### __Objectives:__"
   ]
  },
  {
   "cell_type": "markdown",
   "id": "a45c51a3-8e36-44c4-8a4b-634c004f382b",
   "metadata": {},
   "source": [
    "- Describe R capabilities and RStudio environment.\n",
    "- Explain version control and describe the Git and GitHub environment.\n",
    "- Explain the purpose of branches and describe how to merge changes into branches."
   ]
  },
  {
   "cell_type": "markdown",
   "id": "da32e50f-74c0-4e50-99b6-5acd00130440",
   "metadata": {},
   "source": [
    "#### Some of the popular languages that Data Scientists use are:"
   ]
  },
  {
   "cell_type": "markdown",
   "id": "1058da04-3867-4d9e-8e87-6cf24e4d4964",
   "metadata": {},
   "source": [
    "1. Python\n",
    "2. SQL\n",
    "3. R\n",
    "4. Scala"
   ]
  },
  {
   "cell_type": "markdown",
   "id": "e9b1ad28-a655-4c4c-8a89-0f6000f7bdc4",
   "metadata": {},
   "source": [
    "#### Some of the commonly used libraries used by Data Scientists include:"
   ]
  },
  {
   "cell_type": "markdown",
   "id": "ab7ca4bb-8685-4a36-a1b8-0bca571e4d7a",
   "metadata": {},
   "source": [
    "1. Numpy\n",
    "2. Plotly\n",
    "3. NLTK\n",
    "4. Pandas\n",
    "5. Matplotlib"
   ]
  },
  {
   "cell_type": "markdown",
   "id": "b510180c-b57f-4de5-8a18-fd6dc0f8e488",
   "metadata": {
    "jp-MarkdownHeadingCollapsed": true
   },
   "source": [
    "| Data Science Tools |\n",
    "| ------------------- |\n",
    "| Jupyter lab |\n",
    "| RStudio |\n",
    "| VS code |\n",
    " "
   ]
  },
  {
   "cell_type": "markdown",
   "id": "c222ee62-a864-42e7-97ee-71e8671fd8e1",
   "metadata": {},
   "source": [
    "### Below are a few examples of evaluating arithmetic expressions in Python:\n"
   ]
  },
  {
   "cell_type": "code",
   "execution_count": 5,
   "id": "7bfb361a-b342-4b80-ad4b-e7c85d477406",
   "metadata": {},
   "outputs": [
    {
     "data": {
      "text/plain": [
       "17"
      ]
     },
     "execution_count": 5,
     "metadata": {},
     "output_type": "execute_result"
    }
   ],
   "source": [
    "# This a simple arithmetic expression to mutiply 3 by 4 then add 5 to the result.\n",
    "(3*4)+5"
   ]
  },
  {
   "cell_type": "code",
   "execution_count": 6,
   "id": "ecae2653-09cc-44ee-911a-0fcc5d0c826d",
   "metadata": {},
   "outputs": [
    {
     "data": {
      "text/plain": [
       "3.3333333333333335"
      ]
     },
     "execution_count": 6,
     "metadata": {},
     "output_type": "execute_result"
    }
   ],
   "source": [
    "# This will convert 200 minutes to hours by diving by 60.\n",
    "200/60"
   ]
  },
  {
   "cell_type": "markdown",
   "id": "fe85d6f5-8b88-4f9d-a535-defacf9f54e1",
   "metadata": {},
   "source": [
    "## Author\n",
    "Jamil"
   ]
  },
  {
   "cell_type": "code",
   "execution_count": null,
   "id": "63f267a5-4637-4f69-a879-00d4d853ad01",
   "metadata": {},
   "outputs": [],
   "source": []
  }
 ],
 "metadata": {
  "kernelspec": {
   "display_name": "Python 3 (ipykernel)",
   "language": "python",
   "name": "python3"
  },
  "language_info": {
   "codemirror_mode": {
    "name": "ipython",
    "version": 3
   },
   "file_extension": ".py",
   "mimetype": "text/x-python",
   "name": "python",
   "nbconvert_exporter": "python",
   "pygments_lexer": "ipython3",
   "version": "3.13.3"
  }
 },
 "nbformat": 4,
 "nbformat_minor": 5
}
